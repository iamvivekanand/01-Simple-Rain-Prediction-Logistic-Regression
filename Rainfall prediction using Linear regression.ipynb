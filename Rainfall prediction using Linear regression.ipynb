{
 "cells": [
  {
   "cell_type": "code",
   "execution_count": 1,
   "id": "27f1bab8",
   "metadata": {},
   "outputs": [],
   "source": [
    "import pandas as pd\n",
    "import numpy as np"
   ]
  },
  {
   "cell_type": "code",
   "execution_count": 2,
   "id": "06f2e4ab",
   "metadata": {},
   "outputs": [],
   "source": [
    "data = pd.read_csv(\"austin_weather.csv\")"
   ]
  },
  {
   "cell_type": "code",
   "execution_count": 3,
   "id": "3b86b7c4",
   "metadata": {},
   "outputs": [],
   "source": [
    "data = data.drop(['Events', 'Date', 'SeaLevelPressureHighInches', 'SeaLevelPressureLowInches'], axis = 1)"
   ]
  },
  {
   "cell_type": "code",
   "execution_count": 6,
   "id": "510b6317",
   "metadata": {},
   "outputs": [
    {
     "data": {
      "text/html": [
       "<div>\n",
       "<style scoped>\n",
       "    .dataframe tbody tr th:only-of-type {\n",
       "        vertical-align: middle;\n",
       "    }\n",
       "\n",
       "    .dataframe tbody tr th {\n",
       "        vertical-align: top;\n",
       "    }\n",
       "\n",
       "    .dataframe thead th {\n",
       "        text-align: right;\n",
       "    }\n",
       "</style>\n",
       "<table border=\"1\" class=\"dataframe\">\n",
       "  <thead>\n",
       "    <tr style=\"text-align: right;\">\n",
       "      <th></th>\n",
       "      <th>TempHighF</th>\n",
       "      <th>TempAvgF</th>\n",
       "      <th>TempLowF</th>\n",
       "      <th>DewPointHighF</th>\n",
       "      <th>DewPointAvgF</th>\n",
       "      <th>DewPointLowF</th>\n",
       "      <th>HumidityHighPercent</th>\n",
       "      <th>HumidityAvgPercent</th>\n",
       "      <th>HumidityLowPercent</th>\n",
       "      <th>SeaLevelPressureAvgInches</th>\n",
       "      <th>VisibilityHighMiles</th>\n",
       "      <th>VisibilityAvgMiles</th>\n",
       "      <th>VisibilityLowMiles</th>\n",
       "      <th>WindHighMPH</th>\n",
       "      <th>WindAvgMPH</th>\n",
       "      <th>WindGustMPH</th>\n",
       "      <th>PrecipitationSumInches</th>\n",
       "    </tr>\n",
       "  </thead>\n",
       "  <tbody>\n",
       "    <tr>\n",
       "      <th>0</th>\n",
       "      <td>74</td>\n",
       "      <td>60</td>\n",
       "      <td>45</td>\n",
       "      <td>67</td>\n",
       "      <td>49</td>\n",
       "      <td>43</td>\n",
       "      <td>93</td>\n",
       "      <td>75</td>\n",
       "      <td>57</td>\n",
       "      <td>29.68</td>\n",
       "      <td>10</td>\n",
       "      <td>7</td>\n",
       "      <td>2</td>\n",
       "      <td>20</td>\n",
       "      <td>4</td>\n",
       "      <td>31</td>\n",
       "      <td>0.46</td>\n",
       "    </tr>\n",
       "    <tr>\n",
       "      <th>1</th>\n",
       "      <td>56</td>\n",
       "      <td>48</td>\n",
       "      <td>39</td>\n",
       "      <td>43</td>\n",
       "      <td>36</td>\n",
       "      <td>28</td>\n",
       "      <td>93</td>\n",
       "      <td>68</td>\n",
       "      <td>43</td>\n",
       "      <td>30.13</td>\n",
       "      <td>10</td>\n",
       "      <td>10</td>\n",
       "      <td>5</td>\n",
       "      <td>16</td>\n",
       "      <td>6</td>\n",
       "      <td>25</td>\n",
       "      <td>0</td>\n",
       "    </tr>\n",
       "    <tr>\n",
       "      <th>2</th>\n",
       "      <td>58</td>\n",
       "      <td>45</td>\n",
       "      <td>32</td>\n",
       "      <td>31</td>\n",
       "      <td>27</td>\n",
       "      <td>23</td>\n",
       "      <td>76</td>\n",
       "      <td>52</td>\n",
       "      <td>27</td>\n",
       "      <td>30.49</td>\n",
       "      <td>10</td>\n",
       "      <td>10</td>\n",
       "      <td>10</td>\n",
       "      <td>8</td>\n",
       "      <td>3</td>\n",
       "      <td>12</td>\n",
       "      <td>0</td>\n",
       "    </tr>\n",
       "    <tr>\n",
       "      <th>3</th>\n",
       "      <td>61</td>\n",
       "      <td>46</td>\n",
       "      <td>31</td>\n",
       "      <td>36</td>\n",
       "      <td>28</td>\n",
       "      <td>21</td>\n",
       "      <td>89</td>\n",
       "      <td>56</td>\n",
       "      <td>22</td>\n",
       "      <td>30.45</td>\n",
       "      <td>10</td>\n",
       "      <td>10</td>\n",
       "      <td>7</td>\n",
       "      <td>12</td>\n",
       "      <td>4</td>\n",
       "      <td>20</td>\n",
       "      <td>0</td>\n",
       "    </tr>\n",
       "    <tr>\n",
       "      <th>4</th>\n",
       "      <td>58</td>\n",
       "      <td>50</td>\n",
       "      <td>41</td>\n",
       "      <td>44</td>\n",
       "      <td>40</td>\n",
       "      <td>36</td>\n",
       "      <td>86</td>\n",
       "      <td>71</td>\n",
       "      <td>56</td>\n",
       "      <td>30.33</td>\n",
       "      <td>10</td>\n",
       "      <td>10</td>\n",
       "      <td>7</td>\n",
       "      <td>10</td>\n",
       "      <td>2</td>\n",
       "      <td>16</td>\n",
       "      <td>0.0</td>\n",
       "    </tr>\n",
       "  </tbody>\n",
       "</table>\n",
       "</div>"
      ],
      "text/plain": [
       "   TempHighF  TempAvgF  TempLowF DewPointHighF DewPointAvgF DewPointLowF  \\\n",
       "0         74        60        45            67           49           43   \n",
       "1         56        48        39            43           36           28   \n",
       "2         58        45        32            31           27           23   \n",
       "3         61        46        31            36           28           21   \n",
       "4         58        50        41            44           40           36   \n",
       "\n",
       "  HumidityHighPercent HumidityAvgPercent HumidityLowPercent  \\\n",
       "0                  93                 75                 57   \n",
       "1                  93                 68                 43   \n",
       "2                  76                 52                 27   \n",
       "3                  89                 56                 22   \n",
       "4                  86                 71                 56   \n",
       "\n",
       "  SeaLevelPressureAvgInches VisibilityHighMiles VisibilityAvgMiles  \\\n",
       "0                     29.68                  10                  7   \n",
       "1                     30.13                  10                 10   \n",
       "2                     30.49                  10                 10   \n",
       "3                     30.45                  10                 10   \n",
       "4                     30.33                  10                 10   \n",
       "\n",
       "  VisibilityLowMiles WindHighMPH WindAvgMPH WindGustMPH PrecipitationSumInches  \n",
       "0                  2          20          4          31                   0.46  \n",
       "1                  5          16          6          25                      0  \n",
       "2                 10           8          3          12                      0  \n",
       "3                  7          12          4          20                      0  \n",
       "4                  7          10          2          16                    0.0  "
      ]
     },
     "execution_count": 6,
     "metadata": {},
     "output_type": "execute_result"
    }
   ],
   "source": [
    "data.head()"
   ]
  },
  {
   "cell_type": "code",
   "execution_count": 5,
   "id": "0bea4d29",
   "metadata": {},
   "outputs": [],
   "source": [
    "# some values have 'T' which denotes trace rainfall, we need to replace all occurrences of T with 0\n",
    "# so that we can use the data in our model\n",
    "\n",
    "data = data.replace('T', 0.0)"
   ]
  },
  {
   "cell_type": "code",
   "execution_count": 7,
   "id": "ce280593",
   "metadata": {},
   "outputs": [],
   "source": [
    "# data also contain '-'  where values are nill, we also need to remove them\n",
    "data = data.replace('-', 0.0)"
   ]
  },
  {
   "cell_type": "code",
   "execution_count": 8,
   "id": "230081b8",
   "metadata": {},
   "outputs": [],
   "source": [
    "# save the data in a csv file\n",
    "data.to_csv('austin_final.csv')"
   ]
  },
  {
   "cell_type": "code",
   "execution_count": 9,
   "id": "eee2e252",
   "metadata": {},
   "outputs": [],
   "source": [
    "# reading the cleaned data again\n",
    "data = pd.read_csv(\"austin_final.csv\")"
   ]
  },
  {
   "cell_type": "code",
   "execution_count": 10,
   "id": "72d89856",
   "metadata": {},
   "outputs": [
    {
     "data": {
      "text/html": [
       "<div>\n",
       "<style scoped>\n",
       "    .dataframe tbody tr th:only-of-type {\n",
       "        vertical-align: middle;\n",
       "    }\n",
       "\n",
       "    .dataframe tbody tr th {\n",
       "        vertical-align: top;\n",
       "    }\n",
       "\n",
       "    .dataframe thead th {\n",
       "        text-align: right;\n",
       "    }\n",
       "</style>\n",
       "<table border=\"1\" class=\"dataframe\">\n",
       "  <thead>\n",
       "    <tr style=\"text-align: right;\">\n",
       "      <th></th>\n",
       "      <th>Unnamed: 0</th>\n",
       "      <th>TempHighF</th>\n",
       "      <th>TempAvgF</th>\n",
       "      <th>TempLowF</th>\n",
       "      <th>DewPointHighF</th>\n",
       "      <th>DewPointAvgF</th>\n",
       "      <th>DewPointLowF</th>\n",
       "      <th>HumidityHighPercent</th>\n",
       "      <th>HumidityAvgPercent</th>\n",
       "      <th>HumidityLowPercent</th>\n",
       "      <th>SeaLevelPressureAvgInches</th>\n",
       "      <th>VisibilityHighMiles</th>\n",
       "      <th>VisibilityAvgMiles</th>\n",
       "      <th>VisibilityLowMiles</th>\n",
       "      <th>WindHighMPH</th>\n",
       "      <th>WindAvgMPH</th>\n",
       "      <th>WindGustMPH</th>\n",
       "      <th>PrecipitationSumInches</th>\n",
       "    </tr>\n",
       "  </thead>\n",
       "  <tbody>\n",
       "    <tr>\n",
       "      <th>0</th>\n",
       "      <td>0</td>\n",
       "      <td>74</td>\n",
       "      <td>60</td>\n",
       "      <td>45</td>\n",
       "      <td>67.0</td>\n",
       "      <td>49.0</td>\n",
       "      <td>43.0</td>\n",
       "      <td>93.0</td>\n",
       "      <td>75.0</td>\n",
       "      <td>57.0</td>\n",
       "      <td>29.68</td>\n",
       "      <td>10.0</td>\n",
       "      <td>7.0</td>\n",
       "      <td>2.0</td>\n",
       "      <td>20.0</td>\n",
       "      <td>4.0</td>\n",
       "      <td>31.0</td>\n",
       "      <td>0.46</td>\n",
       "    </tr>\n",
       "    <tr>\n",
       "      <th>1</th>\n",
       "      <td>1</td>\n",
       "      <td>56</td>\n",
       "      <td>48</td>\n",
       "      <td>39</td>\n",
       "      <td>43.0</td>\n",
       "      <td>36.0</td>\n",
       "      <td>28.0</td>\n",
       "      <td>93.0</td>\n",
       "      <td>68.0</td>\n",
       "      <td>43.0</td>\n",
       "      <td>30.13</td>\n",
       "      <td>10.0</td>\n",
       "      <td>10.0</td>\n",
       "      <td>5.0</td>\n",
       "      <td>16.0</td>\n",
       "      <td>6.0</td>\n",
       "      <td>25.0</td>\n",
       "      <td>0.00</td>\n",
       "    </tr>\n",
       "    <tr>\n",
       "      <th>2</th>\n",
       "      <td>2</td>\n",
       "      <td>58</td>\n",
       "      <td>45</td>\n",
       "      <td>32</td>\n",
       "      <td>31.0</td>\n",
       "      <td>27.0</td>\n",
       "      <td>23.0</td>\n",
       "      <td>76.0</td>\n",
       "      <td>52.0</td>\n",
       "      <td>27.0</td>\n",
       "      <td>30.49</td>\n",
       "      <td>10.0</td>\n",
       "      <td>10.0</td>\n",
       "      <td>10.0</td>\n",
       "      <td>8.0</td>\n",
       "      <td>3.0</td>\n",
       "      <td>12.0</td>\n",
       "      <td>0.00</td>\n",
       "    </tr>\n",
       "  </tbody>\n",
       "</table>\n",
       "</div>"
      ],
      "text/plain": [
       "   Unnamed: 0  TempHighF  TempAvgF  TempLowF  DewPointHighF  DewPointAvgF  \\\n",
       "0           0         74        60        45           67.0          49.0   \n",
       "1           1         56        48        39           43.0          36.0   \n",
       "2           2         58        45        32           31.0          27.0   \n",
       "\n",
       "   DewPointLowF  HumidityHighPercent  HumidityAvgPercent  HumidityLowPercent  \\\n",
       "0          43.0                 93.0                75.0                57.0   \n",
       "1          28.0                 93.0                68.0                43.0   \n",
       "2          23.0                 76.0                52.0                27.0   \n",
       "\n",
       "   SeaLevelPressureAvgInches  VisibilityHighMiles  VisibilityAvgMiles  \\\n",
       "0                      29.68                 10.0                 7.0   \n",
       "1                      30.13                 10.0                10.0   \n",
       "2                      30.49                 10.0                10.0   \n",
       "\n",
       "   VisibilityLowMiles  WindHighMPH  WindAvgMPH  WindGustMPH  \\\n",
       "0                 2.0         20.0         4.0         31.0   \n",
       "1                 5.0         16.0         6.0         25.0   \n",
       "2                10.0          8.0         3.0         12.0   \n",
       "\n",
       "   PrecipitationSumInches  \n",
       "0                    0.46  \n",
       "1                    0.00  \n",
       "2                    0.00  "
      ]
     },
     "execution_count": 10,
     "metadata": {},
     "output_type": "execute_result"
    }
   ],
   "source": [
    "data.head(3)"
   ]
  },
  {
   "cell_type": "code",
   "execution_count": 11,
   "id": "4f898e71",
   "metadata": {},
   "outputs": [],
   "source": [
    "# here rain has been represented by the term precipitation, it will serve as the label column\n",
    "X = data.drop(['PrecipitationSumInches'], axis = 1)\n",
    "y= data['PrecipitationSumInches']"
   ]
  },
  {
   "cell_type": "code",
   "execution_count": 12,
   "id": "ea43ac30",
   "metadata": {},
   "outputs": [],
   "source": [
    "y= y.values.reshape(-1, 1)"
   ]
  },
  {
   "cell_type": "code",
   "execution_count": 13,
   "id": "710e5031",
   "metadata": {},
   "outputs": [],
   "source": [
    "# consider a random day in the dataset we shall plot a graph and observe this day\n",
    "\n",
    "day_index = 798\n",
    "days = [i for i in range(y.size)]"
   ]
  },
  {
   "cell_type": "code",
   "execution_count": 15,
   "id": "aac43ba6",
   "metadata": {},
   "outputs": [],
   "source": [
    "from sklearn.linear_model import LinearRegression"
   ]
  },
  {
   "cell_type": "code",
   "execution_count": 16,
   "id": "eb496c0b",
   "metadata": {},
   "outputs": [],
   "source": [
    "model3 = LinearRegression()"
   ]
  },
  {
   "cell_type": "code",
   "execution_count": 17,
   "id": "d1c912c7",
   "metadata": {},
   "outputs": [
    {
     "data": {
      "text/plain": [
       "LinearRegression()"
      ]
     },
     "execution_count": 17,
     "metadata": {},
     "output_type": "execute_result"
    }
   ],
   "source": [
    "model3.fit(X, y)"
   ]
  },
  {
   "cell_type": "code",
   "execution_count": 18,
   "id": "ee386b73",
   "metadata": {},
   "outputs": [],
   "source": [
    "y_pred=model3.predict(X)"
   ]
  },
  {
   "cell_type": "code",
   "execution_count": 19,
   "id": "2f7426be",
   "metadata": {},
   "outputs": [
    {
     "data": {
      "text/plain": [
       "array([[ 0.87119778],\n",
       "       [ 0.01445548],\n",
       "       [-0.25299718],\n",
       "       ...,\n",
       "       [-0.01400966],\n",
       "       [ 0.05332136],\n",
       "       [ 0.00446742]])"
      ]
     },
     "execution_count": 19,
     "metadata": {},
     "output_type": "execute_result"
    }
   ],
   "source": [
    "y_pred"
   ]
  },
  {
   "cell_type": "code",
   "execution_count": 20,
   "id": "846b18c1",
   "metadata": {},
   "outputs": [],
   "source": [
    "import pickle"
   ]
  },
  {
   "cell_type": "code",
   "execution_count": 22,
   "id": "c2d01143",
   "metadata": {},
   "outputs": [
    {
     "data": {
      "text/plain": [
       "array([[ 0.87119778],\n",
       "       [ 0.01445548],\n",
       "       [-0.25299718],\n",
       "       ...,\n",
       "       [-0.01400966],\n",
       "       [ 0.05332136],\n",
       "       [ 0.00446742]])"
      ]
     },
     "execution_count": 22,
     "metadata": {},
     "output_type": "execute_result"
    }
   ],
   "source": [
    "# Save the trained model as a pickle string.\n",
    "saved_model = pickle.dumps(model3)\n",
    " \n",
    "# Load the pickled model\n",
    "model3_from_pickle = pickle.loads(saved_model)\n",
    " \n",
    "# Use the loaded pickled model to make predictions\n",
    "model3_from_pickle.predict(X)"
   ]
  },
  {
   "cell_type": "code",
   "execution_count": 24,
   "id": "fe7ef50a",
   "metadata": {},
   "outputs": [
    {
     "data": {
      "text/plain": [
       "array([[ 0.87119778],\n",
       "       [ 0.01445548],\n",
       "       [-0.25299718],\n",
       "       ...,\n",
       "       [-0.01400966],\n",
       "       [ 0.05332136],\n",
       "       [ 0.00446742]])"
      ]
     },
     "execution_count": 24,
     "metadata": {},
     "output_type": "execute_result"
    }
   ],
   "source": [
    "# or we can use joblib to save our model\n",
    "\n",
    "import joblib\n",
    " \n",
    "# Save the model as a pickle in a file\n",
    "joblib.dump(model3, 'model3.pkl')\n",
    " \n",
    "# Load the model from the file\n",
    "rainpred_from_joblib = joblib.load('model3.pkl')\n",
    " \n",
    "# Use the loaded model to make predictions\n",
    "rainpred_from_joblib.predict(X)"
   ]
  },
  {
   "cell_type": "code",
   "execution_count": null,
   "id": "3bce37d2",
   "metadata": {},
   "outputs": [],
   "source": []
  }
 ],
 "metadata": {
  "kernelspec": {
   "display_name": "Python 3 (ipykernel)",
   "language": "python",
   "name": "python3"
  },
  "language_info": {
   "codemirror_mode": {
    "name": "ipython",
    "version": 3
   },
   "file_extension": ".py",
   "mimetype": "text/x-python",
   "name": "python",
   "nbconvert_exporter": "python",
   "pygments_lexer": "ipython3",
   "version": "3.9.7"
  }
 },
 "nbformat": 4,
 "nbformat_minor": 5
}
